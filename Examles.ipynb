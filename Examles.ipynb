{
 "cells": [
  {
   "cell_type": "markdown",
   "id": "63382a97",
   "metadata": {},
   "source": [
    "# Dunder methods"
   ]
  },
  {
   "cell_type": "code",
   "execution_count": 1,
   "id": "ed165c87",
   "metadata": {},
   "outputs": [
    {
     "name": "stdout",
     "output_type": "stream",
     "text": [
      "Hello my name is heba\n"
     ]
    }
   ],
   "source": [
    "# init method \n",
    "class Person:\n",
    "    \n",
    "  def __init__(self, name):\n",
    "    self.name = name\n",
    "    \n",
    "  def myfunc(self):\n",
    "    print(\"Hello my name is \" + self.name)\n",
    "\n",
    "p1 = Person(\"heba\")\n",
    "p1.myfunc()\n"
   ]
  },
  {
   "cell_type": "markdown",
   "id": "fc5a897e",
   "metadata": {},
   "source": [
    "# *args"
   ]
  },
  {
   "cell_type": "code",
   "execution_count": 2,
   "id": "6e718a09",
   "metadata": {},
   "outputs": [
    {
     "name": "stdout",
     "output_type": "stream",
     "text": [
      "Sum: 8\n",
      "Sum: 22\n",
      "Sum: 17\n"
     ]
    }
   ],
   "source": [
    "# sum two numbers using *args\n",
    "def adder(*num):\n",
    "    sum = 0\n",
    "    \n",
    "    for n in num:\n",
    "        sum = sum + n\n",
    "\n",
    "    print(\"Sum:\",sum)\n",
    "\n",
    "adder(3,5)\n",
    "adder(4,5,6,7)\n",
    "adder(1,2,3,5,6)"
   ]
  },
  {
   "cell_type": "markdown",
   "id": "b8bc8c95",
   "metadata": {},
   "source": [
    "# **kwargs"
   ]
  },
  {
   "cell_type": "code",
   "execution_count": 3,
   "id": "b173e7d0",
   "metadata": {},
   "outputs": [
    {
     "name": "stdout",
     "output_type": "stream",
     "text": [
      " last name is anter\n"
     ]
    }
   ],
   "source": [
    "def my_function(**person):\n",
    "    \n",
    "    print(\" last name is \" + person[\"lastname\"])\n",
    "    \n",
    "my_function(firstname = \"heba\", lastname = \"anter\")"
   ]
  }
 ],
 "metadata": {
  "kernelspec": {
   "display_name": "Python 3 (ipykernel)",
   "language": "python",
   "name": "python3"
  },
  "language_info": {
   "codemirror_mode": {
    "name": "ipython",
    "version": 3
   },
   "file_extension": ".py",
   "mimetype": "text/x-python",
   "name": "python",
   "nbconvert_exporter": "python",
   "pygments_lexer": "ipython3",
   "version": "3.9.12"
  }
 },
 "nbformat": 4,
 "nbformat_minor": 5
}
