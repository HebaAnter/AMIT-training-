{
 "cells": [
  {
   "cell_type": "code",
   "execution_count": 1,
   "id": "a37769cd",
   "metadata": {},
   "outputs": [],
   "source": [
    "# input two values in single line "
   ]
  },
  {
   "cell_type": "code",
   "execution_count": 2,
   "id": "1d3485fb",
   "metadata": {},
   "outputs": [],
   "source": [
    "#first : using comma"
   ]
  },
  {
   "cell_type": "code",
   "execution_count": 3,
   "id": "d1783885",
   "metadata": {},
   "outputs": [
    {
     "name": "stdout",
     "output_type": "stream",
     "text": [
      "enter two numbers5,6\n"
     ]
    }
   ],
   "source": [
    "x,y= map(int,input('enter two numbers').split(','))"
   ]
  },
  {
   "cell_type": "code",
   "execution_count": 4,
   "id": "71d74c78",
   "metadata": {},
   "outputs": [],
   "source": [
    "#second : using space"
   ]
  },
  {
   "cell_type": "code",
   "execution_count": 5,
   "id": "7f153e88",
   "metadata": {},
   "outputs": [
    {
     "name": "stdout",
     "output_type": "stream",
     "text": [
      "enter two numbers5 6\n"
     ]
    }
   ],
   "source": [
    "x,y= map(int,input('enter two numbers').split())"
   ]
  }
 ],
 "metadata": {
  "kernelspec": {
   "display_name": "Python 3 (ipykernel)",
   "language": "python",
   "name": "python3"
  },
  "language_info": {
   "codemirror_mode": {
    "name": "ipython",
    "version": 3
   },
   "file_extension": ".py",
   "mimetype": "text/x-python",
   "name": "python",
   "nbconvert_exporter": "python",
   "pygments_lexer": "ipython3",
   "version": "3.9.12"
  }
 },
 "nbformat": 4,
 "nbformat_minor": 5
}
