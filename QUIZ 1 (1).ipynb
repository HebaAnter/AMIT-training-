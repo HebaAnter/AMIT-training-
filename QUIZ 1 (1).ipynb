{
 "cells": [
  {
   "cell_type": "markdown",
   "metadata": {
    "collapsed": true
   },
   "source": [
    "# QUIZ\n",
    "Let's test your knowledge!"
   ]
  },
  {
   "cell_type": "markdown",
   "metadata": {},
   "source": [
    "_____\n",
    "**Use <code>for</code>, .split(), and <code>if</code> to create a Statement that will print out words that start with 's':**"
   ]
  },
  {
   "cell_type": "code",
   "execution_count": 106,
   "metadata": {},
   "outputs": [],
   "source": [
    "st = 'Print only the words that start with s in this sentence'"
   ]
  },
  {
   "cell_type": "code",
   "execution_count": 122,
   "metadata": {},
   "outputs": [
    {
     "name": "stdout",
     "output_type": "stream",
     "text": [
      "no word\n",
      "no word\n",
      "no word\n",
      "no word\n",
      "no word\n",
      "no word\n",
      "no word\n",
      "no word\n",
      "no word\n",
      "no word\n",
      "no word\n",
      "no word\n",
      "no word\n",
      "no word\n",
      "no word\n",
      "no word\n",
      "no word\n",
      "no word\n",
      "no word\n",
      "s\n",
      "no word\n",
      "no word\n",
      "no word\n",
      "no word\n",
      "no word\n",
      "no word\n",
      "s\n",
      "no word\n",
      "no word\n",
      "no word\n",
      "no word\n",
      "no word\n",
      "no word\n",
      "no word\n",
      "no word\n",
      "no word\n",
      "no word\n",
      "s\n",
      "no word\n",
      "no word\n",
      "no word\n",
      "no word\n",
      "no word\n",
      "no word\n",
      "no word\n",
      "s\n",
      "no word\n",
      "s\n",
      "no word\n",
      "no word\n",
      "no word\n",
      "no word\n",
      "no word\n",
      "no word\n",
      "no word\n"
     ]
    }
   ],
   "source": [
    "#Code here\n",
    "#print out words that start with 's'\n",
    "for i in st:\n",
    "    \n",
    "    if i[0]=='s':\n",
    "        print(i)\n",
    "    else:\n",
    "        print('no word')\n"
   ]
  },
  {
   "cell_type": "code",
   "execution_count": null,
   "metadata": {},
   "outputs": [],
   "source": []
  },
  {
   "cell_type": "code",
   "execution_count": null,
   "metadata": {},
   "outputs": [],
   "source": []
  },
  {
   "cell_type": "markdown",
   "metadata": {},
   "source": [
    "______\n",
    "**Use range() to print all the even numbers from 0 to 10.**"
   ]
  },
  {
   "cell_type": "code",
   "execution_count": 5,
   "metadata": {},
   "outputs": [],
   "source": [
    "x=range(11)"
   ]
  },
  {
   "cell_type": "code",
   "execution_count": 9,
   "metadata": {},
   "outputs": [
    {
     "name": "stdout",
     "output_type": "stream",
     "text": [
      "0\n",
      "2\n",
      "4\n",
      "6\n",
      "8\n",
      "10\n"
     ]
    }
   ],
   "source": [
    "for i in x:\n",
    "    if i%2==0:\n",
    "        print(i)"
   ]
  },
  {
   "cell_type": "code",
   "execution_count": null,
   "metadata": {},
   "outputs": [],
   "source": []
  },
  {
   "cell_type": "markdown",
   "metadata": {},
   "source": [
    "___\n",
    "**Use a List Comprehension to create a list of all numbers between 1 and 50 that are divisible by 3.**"
   ]
  },
  {
   "cell_type": "code",
   "execution_count": 29,
   "metadata": {},
   "outputs": [
    {
     "name": "stdout",
     "output_type": "stream",
     "text": [
      "3\n",
      "6\n",
      "9\n",
      "12\n",
      "15\n",
      "18\n",
      "21\n",
      "24\n",
      "27\n",
      "30\n",
      "33\n",
      "36\n",
      "39\n",
      "42\n",
      "45\n",
      "48\n"
     ]
    }
   ],
   "source": [
    "lst=range(50)\n",
    "lst=list(lst)\n",
    "lst=lst[1::]\n",
    "for x in lst :\n",
    "    if x%3==0:\n",
    "        print(x)"
   ]
  },
  {
   "cell_type": "markdown",
   "metadata": {},
   "source": [
    "_____\n",
    "**Go through the string below and if the length of a word is even print \"even!\"**"
   ]
  },
  {
   "cell_type": "code",
   "execution_count": 124,
   "metadata": {},
   "outputs": [],
   "source": [
    "st = 'Print every word in this sentence that has an even number of letters'"
   ]
  },
  {
   "cell_type": "code",
   "execution_count": 125,
   "metadata": {},
   "outputs": [
    {
     "ename": "TypeError",
     "evalue": "not all arguments converted during string formatting",
     "output_type": "error",
     "traceback": [
      "\u001b[1;31m---------------------------------------------------------------------------\u001b[0m",
      "\u001b[1;31mTypeError\u001b[0m                                 Traceback (most recent call last)",
      "Input \u001b[1;32mIn [125]\u001b[0m, in \u001b[0;36m<cell line: 4>\u001b[1;34m()\u001b[0m\n\u001b[0;32m      3\u001b[0m x\u001b[38;5;241m=\u001b[39m\u001b[38;5;28mlen\u001b[39m (x)\n\u001b[0;32m      4\u001b[0m \u001b[38;5;28;01mfor\u001b[39;00m x \u001b[38;5;129;01min\u001b[39;00m lst:\n\u001b[1;32m----> 5\u001b[0m     \u001b[38;5;28;01mif\u001b[39;00m \u001b[43mx\u001b[49m\u001b[38;5;241;43m%\u001b[39;49m\u001b[38;5;241;43m2\u001b[39;49m\u001b[38;5;241m==\u001b[39m\u001b[38;5;241m0\u001b[39m:\n\u001b[0;32m      6\u001b[0m         \u001b[38;5;28mprint\u001b[39m(x)\n",
      "\u001b[1;31mTypeError\u001b[0m: not all arguments converted during string formatting"
     ]
    }
   ],
   "source": [
    "#Code in this cell\n",
    "lst=list(st)\n",
    "x=len (x)\n",
    "for x in lst:\n",
    "    if x%2==0:\n",
    "        print(x)\n",
    "    \n",
    "    "
   ]
  },
  {
   "cell_type": "code",
   "execution_count": null,
   "metadata": {},
   "outputs": [],
   "source": []
  },
  {
   "cell_type": "markdown",
   "metadata": {},
   "source": [
    "____\n",
    "**Write a program that prints the integers from 1 to 100. But for multiples of three print \"Fizz\" instead of the number, and for the multiples of five print \"Buzz\". For numbers which are multiples of both three and five print \"FizzBuzz\".**"
   ]
  },
  {
   "cell_type": "code",
   "execution_count": 83,
   "metadata": {},
   "outputs": [
    {
     "name": "stdout",
     "output_type": "stream",
     "text": [
      "fizz\n",
      "error\n",
      "error\n",
      "fizz\n",
      "error\n",
      "buzz\n",
      "fizz\n",
      "error\n",
      "error\n",
      "fizz\n",
      "buzz\n",
      "error\n",
      "fizz\n",
      "error\n",
      "error\n",
      "fizz\n",
      "error\n",
      "error\n",
      "fizz\n",
      "error\n",
      "buzz\n",
      "fizz\n",
      "error\n",
      "error\n",
      "fizz\n",
      "buzz\n",
      "error\n",
      "fizz\n",
      "error\n",
      "error\n",
      "fizz\n",
      "error\n",
      "error\n",
      "fizz\n",
      "error\n",
      "buzz\n",
      "fizz\n",
      "error\n",
      "error\n",
      "fizz\n",
      "buzz\n",
      "error\n",
      "fizz\n",
      "error\n",
      "error\n",
      "fizz\n",
      "error\n",
      "error\n",
      "fizz\n",
      "error\n",
      "buzz\n",
      "fizz\n",
      "error\n",
      "error\n",
      "fizz\n",
      "buzz\n",
      "error\n",
      "fizz\n",
      "error\n",
      "error\n",
      "fizz\n",
      "error\n",
      "error\n",
      "fizz\n",
      "error\n",
      "buzz\n",
      "fizz\n",
      "error\n",
      "error\n",
      "fizz\n",
      "buzz\n",
      "error\n",
      "fizz\n",
      "error\n",
      "error\n",
      "fizz\n",
      "error\n",
      "error\n",
      "fizz\n",
      "error\n",
      "buzz\n",
      "fizz\n",
      "error\n",
      "error\n",
      "fizz\n",
      "buzz\n",
      "error\n",
      "fizz\n",
      "error\n",
      "error\n",
      "fizz\n",
      "error\n",
      "error\n",
      "fizz\n",
      "error\n",
      "buzz\n",
      "fizz\n",
      "error\n",
      "error\n",
      "fizz\n",
      "buzz\n"
     ]
    }
   ],
   "source": [
    "#Code in this cell\n",
    "for x in range(101):\n",
    "    if x%3==0:\n",
    "        print('fizz')\n",
    "    elif x%5==0:\n",
    "        print('buzz')\n",
    "    elif x%3==0 and x%5==0:\n",
    "        print('fizzbuzz')\n",
    "    else:\n",
    "        print('error')"
   ]
  },
  {
   "cell_type": "markdown",
   "metadata": {},
   "source": [
    "____\n",
    "**Use List Comprehension to create a list of the first letters of every word in the string below:**"
   ]
  },
  {
   "cell_type": "code",
   "execution_count": 127,
   "metadata": {},
   "outputs": [],
   "source": [
    "st = 'Create a list of the first letters of every word in this string'"
   ]
  },
  {
   "cell_type": "code",
   "execution_count": 133,
   "metadata": {},
   "outputs": [
    {
     "name": "stdout",
     "output_type": "stream",
     "text": [
      "C\n",
      "r\n",
      "e\n",
      "a\n",
      "t\n",
      "e\n",
      " \n",
      "a\n",
      " \n",
      "l\n",
      "i\n",
      "s\n",
      "t\n",
      " \n",
      "o\n",
      "f\n",
      " \n",
      "t\n",
      "h\n",
      "e\n",
      " \n",
      "f\n",
      "i\n",
      "r\n",
      "s\n",
      "t\n",
      " \n",
      "l\n",
      "e\n",
      "t\n",
      "t\n",
      "e\n",
      "r\n",
      "s\n",
      " \n",
      "o\n",
      "f\n",
      " \n",
      "e\n",
      "v\n",
      "e\n",
      "r\n",
      "y\n",
      " \n",
      "w\n",
      "o\n",
      "r\n",
      "d\n",
      " \n",
      "i\n",
      "n\n",
      " \n",
      "t\n",
      "h\n",
      "i\n",
      "s\n",
      " \n",
      "s\n",
      "t\n",
      "r\n",
      "i\n",
      "n\n",
      "g\n"
     ]
    }
   ],
   "source": [
    "#Code in this cell\n",
    "for i in st:\n",
    "    \n",
    "    if i==i[0] :\n",
    "        print(i)"
   ]
  },
  {
   "cell_type": "code",
   "execution_count": null,
   "metadata": {},
   "outputs": [],
   "source": []
  },
  {
   "cell_type": "code",
   "execution_count": null,
   "metadata": {},
   "outputs": [],
   "source": []
  },
  {
   "cell_type": "code",
   "execution_count": null,
   "metadata": {},
   "outputs": [],
   "source": []
  },
  {
   "cell_type": "code",
   "execution_count": null,
   "metadata": {},
   "outputs": [],
   "source": []
  },
  {
   "cell_type": "code",
   "execution_count": null,
   "metadata": {},
   "outputs": [],
   "source": []
  },
  {
   "cell_type": "code",
   "execution_count": null,
   "metadata": {},
   "outputs": [],
   "source": []
  },
  {
   "cell_type": "code",
   "execution_count": null,
   "metadata": {},
   "outputs": [],
   "source": []
  },
  {
   "cell_type": "code",
   "execution_count": null,
   "metadata": {},
   "outputs": [],
   "source": []
  }
 ],
 "metadata": {
  "kernelspec": {
   "display_name": "Python 3 (ipykernel)",
   "language": "python",
   "name": "python3"
  },
  "language_info": {
   "codemirror_mode": {
    "name": "ipython",
    "version": 3
   },
   "file_extension": ".py",
   "mimetype": "text/x-python",
   "name": "python",
   "nbconvert_exporter": "python",
   "pygments_lexer": "ipython3",
   "version": "3.9.12"
  }
 },
 "nbformat": 4,
 "nbformat_minor": 1
}
